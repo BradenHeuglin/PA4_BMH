{
 "cells": [
  {
   "cell_type": "code",
   "execution_count": 1,
   "metadata": {},
   "outputs": [
    {
     "name": "stdout",
     "output_type": "stream",
     "text": [
      "Enter a word in English to translate it to German. (Enter 0 to stop): three\n",
      "The German word for three is DREI\n",
      "Enter a word in English to translate it to German. (Enter 0 to stop): seven\n",
      "The German word for seven is SIEBEN\n",
      "Enter a word in English to translate it to German. (Enter 0 to stop): seventeen\n",
      "The German word for seventeen is SIEBZEHN\n",
      "Enter a word in English to translate it to German. (Enter 0 to stop): hello\n",
      "The German word for HELLO is not in the dictionary\n",
      "Enter a word in English to translate it to German. (Enter 0 to stop): 0\n"
     ]
    }
   ],
   "source": [
    "german={\"one\": \"eins\",\n",
    "       \"two\": \"zwei\",\n",
    "       \"three\": \"drei\",\n",
    "       \"four\": \"vier\",\n",
    "       \"five\": \"fünf\",\n",
    "       \"six\": \"sechs\",\n",
    "       \"seven\": \"sieben\",\n",
    "       \"eight\": \"acht\",\n",
    "       \"nine\": \"neun\",\n",
    "       \"ten\": \"zehn\",\n",
    "       \"eleven\": \"elf\",\n",
    "       \"twelve\": \"zwölf\",\n",
    "       \"thirteen\": \"dreizehn\",\n",
    "       \"fourteen\": \"vierzehn\",\n",
    "       \"fifteen\": \"fünfzehn\",\n",
    "       \"sixteen\": \"sechszehn\",\n",
    "       \"seventeen\": \"siebzehn\",\n",
    "       \"eighteen\": \"achtzehn\",\n",
    "       \"nineteen\": \"neunzehn\",\n",
    "       \"twemty\": \"zwanzig\"}\n",
    "active=True\n",
    "while active:\n",
    "    english=input(\"Enter a word in English to translate it to German. (Enter 0 to stop): \")\n",
    "    if english==\"0\":\n",
    "        active=False\n",
    "    elif english in german:\n",
    "        print(\"The German word for\", english, \"is\", german[english].upper())\n",
    "    else:\n",
    "        print(\"The German word for\", english.upper(), \"is not in the dictionary\")"
   ]
  },
  {
   "cell_type": "code",
   "execution_count": 2,
   "metadata": {},
   "outputs": [
    {
     "name": "stdout",
     "output_type": "stream",
     "text": [
      "{'one': 'eins', 'two': 'zwei', 'three': 'drei', 'four': 'vier', 'five': 'fünf', 'six': 'sechs', 'seven': 'sieben', 'eight': 'acht', 'nine': 'neun', 'ten': 'zehn', 'eleven': 'elf', 'twelve': 'zwölf', 'thirteen': 'dreizehn', 'fourteen': 'vierzehn', 'fifteen': 'fünfzehn', 'sixteen': 'sechszehn', 'seventeen': 'siebzehn', 'eighteen': 'achtzehn', 'nineteen': 'neunzehn', 'twemty': 'zwanzig'}\n"
     ]
    }
   ],
   "source": [
    "print(german)"
   ]
  },
  {
   "cell_type": "code",
   "execution_count": 12,
   "metadata": {},
   "outputs": [
    {
     "name": "stdout",
     "output_type": "stream",
     "text": [
      "{3: 31.25, 7: 29.375, 13: 30.0, 17: 27.5, 23: 25.625, 27: 21.875, 30: 24.375}\n"
     ]
    }
   ],
   "source": [
    "September={3: 82,\n",
    "           7: 79,\n",
    "           13: 80,\n",
    "           17: 76,\n",
    "           23: 73,\n",
    "           27: 67,\n",
    "           30: 71}\n",
    "for key, value in September.items():\n",
    "    celcius=(value-32)*(5/8)\n",
    "    September.update({key: celcius})\n",
    "print(September)"
   ]
  },
  {
   "cell_type": "code",
   "execution_count": 7,
   "metadata": {},
   "outputs": [
    {
     "name": "stdout",
     "output_type": "stream",
     "text": [
      "{1: 1, 2: 4, 3: 9, 4: 16, 5: 25, 6: 36, 7: 49, 8: 64, 9: 81, 10: 100, 11: 121, 12: 144, 13: 169, 14: 196, 15: 225}\n"
     ]
    }
   ],
   "source": [
    "dict={}\n",
    "i=1\n",
    "while i<16:\n",
    "    square=i**2\n",
    "    dict[i]=square\n",
    "    i+=1\n",
    "print(dict)"
   ]
  },
  {
   "cell_type": "markdown",
   "metadata": {},
   "source": [
    "# PA 4\n",
    "## Braden Heuglin\n",
    "### Version 1\n",
    "#### Fall 2022, CS 150"
   ]
  }
 ],
 "metadata": {
  "kernelspec": {
   "display_name": "Python 3 (ipykernel)",
   "language": "python",
   "name": "python3"
  },
  "language_info": {
   "codemirror_mode": {
    "name": "ipython",
    "version": 3
   },
   "file_extension": ".py",
   "mimetype": "text/x-python",
   "name": "python",
   "nbconvert_exporter": "python",
   "pygments_lexer": "ipython3",
   "version": "3.9.12"
  }
 },
 "nbformat": 4,
 "nbformat_minor": 4
}
